{
 "cells": [
  {
   "cell_type": "markdown",
   "metadata": {},
   "source": [
    "**Initilize `spark` session** "
   ]
  },
  {
   "cell_type": "code",
   "execution_count": 9,
   "metadata": {},
   "outputs": [
    {
     "name": "stdout",
     "output_type": "stream",
     "text": [
      "2019-03-03 19:36:22 WARN  SparkSession$Builder:66 - Using an existing SparkSession; some configuration may not take effect.\r\n"
     ]
    },
    {
     "data": {
      "text/plain": [
       "import org.apache.spark.sql.SparkSession\r\n",
       "spark: org.apache.spark.sql.SparkSession = org.apache.spark.sql.SparkSession@275eb5de\n"
      ]
     },
     "execution_count": 9,
     "metadata": {},
     "output_type": "execute_result"
    }
   ],
   "source": [
    "import org.apache.spark.sql.SparkSession\n",
    "\n",
    "val spark = SparkSession\n",
    "            .builder()\n",
    "            .appName(\"Prediction forest cover\")\n",
    "            .master(\"local[*]\")\n",
    "            .getOrCreate()"
   ]
  },
  {
   "cell_type": "markdown",
   "metadata": {},
   "source": [
    "**load data**"
   ]
  },
  {
   "cell_type": "code",
   "execution_count": 19,
   "metadata": {
    "collapsed": true
   },
   "outputs": [
    {
     "name": "stdout",
     "output_type": "stream",
     "text": [
      "root\n",
      " |-- Id: string (nullable = true)\n",
      " |-- Elevation: string (nullable = true)\n",
      " |-- Aspect: string (nullable = true)\n",
      " |-- Slope: string (nullable = true)\n",
      " |-- Horizontal_Distance_To_Hydrology: string (nullable = true)\n",
      " |-- Vertical_Distance_To_Hydrology: string (nullable = true)\n",
      " |-- Horizontal_Distance_To_Roadways: string (nullable = true)\n",
      " |-- Hillshade_9am: string (nullable = true)\n",
      " |-- Hillshade_Noon: string (nullable = true)\n",
      " |-- Hillshade_3pm: string (nullable = true)\n",
      " |-- Horizontal_Distance_To_Fire_Points: string (nullable = true)\n",
      " |-- Wilderness_Area1: string (nullable = true)\n",
      " |-- Wilderness_Area2: string (nullable = true)\n",
      " |-- Wilderness_Area3: string (nullable = true)\n",
      " |-- Wilderness_Area4: string (nullable = true)\n",
      " |-- Soil_Type1: string (nullable = true)\n",
      " |-- Soil_Type2: string (nullable = true)\n",
      " |-- Soil_Type3: string (nullable = true)\n",
      " |-- Soil_Type4: string (nullable = true)\n",
      " |-- Soil_Type5: string (nullable = true)\n",
      " |-- Soil_Type6: string (nullable = true)\n",
      " |-- Soil_Type7: string (nullable = true)\n",
      " |-- Soil_Type8: string (nullable = true)\n",
      " |-- Soil_Type9: string (nullable = true)\n",
      " |-- Soil_Type10: string (nullable = true)\n",
      " |-- Soil_Type11: string (nullable = true)\n",
      " |-- Soil_Type12: string (nullable = true)\n",
      " |-- Soil_Type13: string (nullable = true)\n",
      " |-- Soil_Type14: string (nullable = true)\n",
      " |-- Soil_Type15: string (nullable = true)\n",
      " |-- Soil_Type16: string (nullable = true)\n",
      " |-- Soil_Type17: string (nullable = true)\n",
      " |-- Soil_Type18: string (nullable = true)\n",
      " |-- Soil_Type19: string (nullable = true)\n",
      " |-- Soil_Type20: string (nullable = true)\n",
      " |-- Soil_Type21: string (nullable = true)\n",
      " |-- Soil_Type22: string (nullable = true)\n",
      " |-- Soil_Type23: string (nullable = true)\n",
      " |-- Soil_Type24: string (nullable = true)\n",
      " |-- Soil_Type25: string (nullable = true)\n",
      " |-- Soil_Type26: string (nullable = true)\n",
      " |-- Soil_Type27: string (nullable = true)\n",
      " |-- Soil_Type28: string (nullable = true)\n",
      " |-- Soil_Type29: string (nullable = true)\n",
      " |-- Soil_Type30: string (nullable = true)\n",
      " |-- Soil_Type31: string (nullable = true)\n",
      " |-- Soil_Type32: string (nullable = true)\n",
      " |-- Soil_Type33: string (nullable = true)\n",
      " |-- Soil_Type34: string (nullable = true)\n",
      " |-- Soil_Type35: string (nullable = true)\n",
      " |-- Soil_Type36: string (nullable = true)\n",
      " |-- Soil_Type37: string (nullable = true)\n",
      " |-- Soil_Type38: string (nullable = true)\n",
      " |-- Soil_Type39: string (nullable = true)\n",
      " |-- Soil_Type40: string (nullable = true)\n",
      " |-- Cover_Type: string (nullable = true)\n",
      "\n"
     ]
    },
    {
     "data": {
      "text/plain": [
       "data: org.apache.spark.sql.DataFrame = [Id: string, Elevation: string ... 54 more fields]\n"
      ]
     },
     "execution_count": 19,
     "metadata": {},
     "output_type": "execute_result"
    }
   ],
   "source": [
    "val data = spark.read.format(\"csv\").option(\"header\", \"true\").load(\"data/train.csv\")\n",
    "data.printSchema"
   ]
  },
  {
   "cell_type": "markdown",
   "metadata": {},
   "source": [
    "**convert all columns to `int`**"
   ]
  },
  {
   "cell_type": "code",
   "execution_count": 23,
   "metadata": {
    "collapsed": true
   },
   "outputs": [
    {
     "name": "stdout",
     "output_type": "stream",
     "text": [
      "root\n",
      " |-- Id: integer (nullable = true)\n",
      " |-- Elevation: integer (nullable = true)\n",
      " |-- Aspect: integer (nullable = true)\n",
      " |-- Slope: integer (nullable = true)\n",
      " |-- Horizontal_Distance_To_Hydrology: integer (nullable = true)\n",
      " |-- Vertical_Distance_To_Hydrology: integer (nullable = true)\n",
      " |-- Horizontal_Distance_To_Roadways: integer (nullable = true)\n",
      " |-- Hillshade_9am: integer (nullable = true)\n",
      " |-- Hillshade_Noon: integer (nullable = true)\n",
      " |-- Hillshade_3pm: integer (nullable = true)\n",
      " |-- Horizontal_Distance_To_Fire_Points: integer (nullable = true)\n",
      " |-- Wilderness_Area1: integer (nullable = true)\n",
      " |-- Wilderness_Area2: integer (nullable = true)\n",
      " |-- Wilderness_Area3: integer (nullable = true)\n",
      " |-- Wilderness_Area4: integer (nullable = true)\n",
      " |-- Soil_Type1: integer (nullable = true)\n",
      " |-- Soil_Type2: integer (nullable = true)\n",
      " |-- Soil_Type3: integer (nullable = true)\n",
      " |-- Soil_Type4: integer (nullable = true)\n",
      " |-- Soil_Type5: integer (nullable = true)\n",
      " |-- Soil_Type6: integer (nullable = true)\n",
      " |-- Soil_Type7: integer (nullable = true)\n",
      " |-- Soil_Type8: integer (nullable = true)\n",
      " |-- Soil_Type9: integer (nullable = true)\n",
      " |-- Soil_Type10: integer (nullable = true)\n",
      " |-- Soil_Type11: integer (nullable = true)\n",
      " |-- Soil_Type12: integer (nullable = true)\n",
      " |-- Soil_Type13: integer (nullable = true)\n",
      " |-- Soil_Type14: integer (nullable = true)\n",
      " |-- Soil_Type15: integer (nullable = true)\n",
      " |-- Soil_Type16: integer (nullable = true)\n",
      " |-- Soil_Type17: integer (nullable = true)\n",
      " |-- Soil_Type18: integer (nullable = true)\n",
      " |-- Soil_Type19: integer (nullable = true)\n",
      " |-- Soil_Type20: integer (nullable = true)\n",
      " |-- Soil_Type21: integer (nullable = true)\n",
      " |-- Soil_Type22: integer (nullable = true)\n",
      " |-- Soil_Type23: integer (nullable = true)\n",
      " |-- Soil_Type24: integer (nullable = true)\n",
      " |-- Soil_Type25: integer (nullable = true)\n",
      " |-- Soil_Type26: integer (nullable = true)\n",
      " |-- Soil_Type27: integer (nullable = true)\n",
      " |-- Soil_Type28: integer (nullable = true)\n",
      " |-- Soil_Type29: integer (nullable = true)\n",
      " |-- Soil_Type30: integer (nullable = true)\n",
      " |-- Soil_Type31: integer (nullable = true)\n",
      " |-- Soil_Type32: integer (nullable = true)\n",
      " |-- Soil_Type33: integer (nullable = true)\n",
      " |-- Soil_Type34: integer (nullable = true)\n",
      " |-- Soil_Type35: integer (nullable = true)\n",
      " |-- Soil_Type36: integer (nullable = true)\n",
      " |-- Soil_Type37: integer (nullable = true)\n",
      " |-- Soil_Type38: integer (nullable = true)\n",
      " |-- Soil_Type39: integer (nullable = true)\n",
      " |-- Soil_Type40: integer (nullable = true)\n",
      " |-- Cover_Type: integer (nullable = true)\n",
      "\n"
     ]
    },
    {
     "data": {
      "text/plain": [
       "df: org.apache.spark.sql.DataFrame = [Id: int, Elevation: int ... 54 more fields]\n"
      ]
     },
     "execution_count": 23,
     "metadata": {},
     "output_type": "execute_result"
    }
   ],
   "source": [
    "val df = data.columns.foldLeft(data) { (current, c) =>\n",
    "    current.withColumn(c, col(c).cast(\"int\"))\n",
    "}\n",
    "df.printSchema"
   ]
  },
  {
   "cell_type": "code",
   "execution_count": 27,
   "metadata": {},
   "outputs": [
    {
     "ename": "NameError",
     "evalue": "(\"name 'df' is not defined\",)",
     "output_type": "error",
     "traceback": [
      "Traceback (most recent call last):",
      "  File \"python cell\", line 1, in <module>",
      "NameError: name 'df' is not defined"
     ]
    }
   ],
   "source": []
  },
  {
   "cell_type": "code",
   "execution_count": null,
   "metadata": {},
   "outputs": [],
   "source": []
  }
 ],
 "metadata": {
  "kernelspec": {
   "display_name": "spylon-kernel",
   "language": "scala",
   "name": "spylon-kernel"
  },
  "language_info": {
   "codemirror_mode": "text/x-scala",
   "file_extension": ".scala",
   "help_links": [
    {
     "text": "MetaKernel Magics",
     "url": "https://github.com/calysto/metakernel/blob/master/metakernel/magics/README.md"
    }
   ],
   "mimetype": "text/x-scala",
   "name": "scala",
   "pygments_lexer": "scala",
   "version": "0.4.1"
  }
 },
 "nbformat": 4,
 "nbformat_minor": 2
}
